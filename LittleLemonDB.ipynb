{
 "cells": [
  {
   "cell_type": "code",
   "execution_count": 1,
   "id": "46691d4d",
   "metadata": {},
   "outputs": [],
   "source": [
    "import mysql.connector as connector\n",
    "import pandas as pd"
   ]
  },
  {
   "cell_type": "code",
   "execution_count": 2,
   "id": "23f74190",
   "metadata": {},
   "outputs": [],
   "source": [
    "connection = connector.connect(user=\"archie\",password=\"keke\")"
   ]
  },
  {
   "cell_type": "code",
   "execution_count": 3,
   "id": "a9425db3",
   "metadata": {},
   "outputs": [],
   "source": [
    "cursor = connection.cursor()"
   ]
  },
  {
   "cell_type": "code",
   "execution_count": 4,
   "id": "f0b74ada",
   "metadata": {},
   "outputs": [],
   "source": [
    "cursor.execute(\"use littlelemondb;\")"
   ]
  },
  {
   "cell_type": "code",
   "execution_count": 29,
   "id": "483cdf48",
   "metadata": {},
   "outputs": [
    {
     "name": "stdout",
     "output_type": "stream",
     "text": [
      "('bookings',)\n",
      "('customers',)\n",
      "('delivery',)\n",
      "('employees',)\n",
      "('menuitems',)\n",
      "('menus',)\n",
      "('orders',)\n"
     ]
    }
   ],
   "source": [
    "cursor.execute(\"show tables;\")\n",
    "for i in cursor.fetchall():\n",
    "    print(i)"
   ]
  },
  {
   "cell_type": "code",
   "execution_count": 25,
   "id": "f4b48923",
   "metadata": {},
   "outputs": [],
   "source": [
    "connection.close()"
   ]
  },
  {
   "cell_type": "code",
   "execution_count": 14,
   "id": "c7301333",
   "metadata": {},
   "outputs": [],
   "source": [
    "#*******************************************************#\n",
    "# Insert query to populate \"MenuItems\" table:\n",
    "#*******************************************************#\n",
    "insert_menuitems=\"\"\"\n",
    "INSERT INTO menuitems (ItemID, Name, Type, Price)\n",
    "VALUES\n",
    "(1, 'Olives','Starters',5),\n",
    "(2, 'Flatbread','Starters', 5),\n",
    "(3, 'Minestrone', 'Starters', 8),\n",
    "(4, 'Tomato bread','Starters', 8),\n",
    "(5, 'Falafel', 'Starters', 7),\n",
    "(6, 'Hummus', 'Starters', 5),\n",
    "(7, 'Greek salad', 'Main Courses', 15),\n",
    "(8, 'Bean soup', 'Main Courses', 12),\n",
    "(9, 'Pizza', 'Main Courses', 15),\n",
    "(10, 'Greek yoghurt','Desserts', 7),\n",
    "(11, 'Ice cream', 'Desserts', 6),\n",
    "(12, 'Cheesecake', 'Desserts', 4),\n",
    "(13, 'Athens White wine', 'Drinks', 25),\n",
    "(14, 'Corfu Red Wine', 'Drinks', 30),\n",
    "(15, 'Turkish Coffee', 'Drinks', 10),\n",
    "(16, 'Turkish Coffee', 'Drinks', 10),\n",
    "(17, 'Kabasa', 'Main Courses', 17);\"\"\"\n",
    "\n",
    "#*******************************************************#\n",
    "# Insert query to populate \"Menu\" table:\n",
    "#*******************************************************#\n",
    "insert_menu=\"\"\"\n",
    "INSERT INTO Menus (MenuID,ItemID,Cuisine)\n",
    "VALUES\n",
    "(1, 1, 'Greek'),\n",
    "(1, 7, 'Greek'),\n",
    "(1, 10, 'Greek'),\n",
    "(1, 13, 'Greek'),\n",
    "(2, 3, 'Italian'),\n",
    "(2, 9, 'Italian'),\n",
    "(2, 12, 'Italian'),\n",
    "(2, 15, 'Italian'),\n",
    "(3, 5, 'Turkish'),\n",
    "(3, 17, 'Turkish'),\n",
    "(3, 11, 'Turkish'),\n",
    "(3, 16, 'Turkish');\"\"\"\n",
    "\n",
    "#*******************************************************#\n",
    "# Insert query to populate \"Employees\" table:\n",
    "#*******************************************************#\n",
    "insert_employees = \"\"\"\n",
    "INSERT INTO employees (EmployeeID, Name, Role, Address, Contact_Number, Email, Annual_Salary) VALUES\n",
    "(01,'Mario Gollini','Manager','724, Parsley Lane, Old Town, Chicago, IL',351258074,'Mario.g@littlelemon.com',70000),\n",
    "(02,'Adrian Gollini','Assistant Manager','334, Dill Square, Lincoln Park, Chicago, IL',351474048,'Adrian.g@littlelemon.com',65000),\n",
    "(03,'Giorgos Dioudis','Head Chef','879 Sage Street, West Loop, Chicago, IL',351970582,'Giorgos.d@littlelemon.com',50000),\n",
    "(04,'Fatma Kaya','Assistant Chef','132  Bay Lane, Chicago, IL',351963569,'Fatma.k@littlelemon.com',45000),\n",
    "(05,'Elena Salvai','Head Waiter','989 Thyme Square, EdgeWater, Chicago, IL',351074198,'Elena.s@littlelemon.com',40000),\n",
    "(06,'John Millar','Receptionist','245 Dill Square, Lincoln Park, Chicago, IL',351584508,'John.m@littlelemon.com',35000);\"\"\"\n",
    "\n",
    "#*******************************************************#\n",
    "# Insert query to populate \"Bookings\" table:\n",
    "#*******************************************************#\n",
    "insert_bookings=\"\"\"\n",
    "INSERT INTO Bookings (BookingID, TableNo, GuestFirstName, \n",
    "GuestLastName, BookingSlot, EmployeeID,customerid)\n",
    "VALUES\n",
    "(1, 12, 'Anna','Iversen','19:00:00',1, 1),\n",
    "(2, 12, 'Joakim', 'Iversen', '19:00:00', 1, 2),\n",
    "(3, 19, 'Vanessa', 'McCarthy', '15:00:00', 3, 3),\n",
    "(4, 15, 'Marcos', 'Romero', '17:30:00', 4, 4),\n",
    "(5, 5, 'Hiroki', 'Yamane', '18:30:00', 2, 5),\n",
    "(6, 8, 'Diana', 'Pinto', '20:00:00', 5, 6);\"\"\"\n",
    "\n",
    "#*******************************************************#\n",
    "# Insert query to populate \"Orders\" table:\n",
    "#*******************************************************#\n",
    "insert_orders=\"\"\"\n",
    "INSERT INTO Orders (OrderID, TableNo, MenuID, BookingID, Quantity, BillAmount)\n",
    "VALUES\n",
    "(1, 12, 1, 1, 2, 86),\n",
    "(2, 19, 2, 2, 1, 37),\n",
    "(3, 15, 2, 3, 1, 37),\n",
    "(4, 5, 3, 4, 1, 40),\n",
    "(5, 8, 1, 5, 1, 43);\"\"\"\n",
    "\n",
    "#*******************************************************#\n",
    "# Insert query to populate \"customers\" table:\n",
    "#*******************************************************#\n",
    "insert_customers=\"\"\"\n",
    "INSERT INTO customers (customerid, firstname, lastname, phonenumber, email)\n",
    "VALUES\n",
    "(1, 'Anna','Iversen','5051234567', 'ai@derp.com'),\n",
    "(2, 'Joakim', 'Iversen','5053216547', 'ji@derp.com'),\n",
    "(3, 'Vanessa', 'McCarthy','5057894561', 'vm@derp.com'),\n",
    "(4, 'Marcos', 'Romero','5054567891', 'mr@derp.com'),\n",
    "(5, 'Hiroki', 'Yamane','5059571267', 'hy@derp.com'),\n",
    "(6, 'Diana', 'Pinto', '5056485132', 'dp@derp.com');\"\"\""
   ]
  },
  {
   "cell_type": "code",
   "execution_count": 23,
   "id": "8adf2289",
   "metadata": {},
   "outputs": [],
   "source": []
  },
  {
   "cell_type": "code",
   "execution_count": 11,
   "id": "79b4e2bb",
   "metadata": {},
   "outputs": [],
   "source": [
    "cursor.execute(insert_menuitems)\n",
    "connection.commit()\n",
    "\n",
    "cursor.execute(insert_menu)\n",
    "connection.commit()\n",
    "\n",
    "cursor.execute(insert_employees)\n",
    "connection.commit()\n",
    "\n",
    "cursor.execute(insert_customers)\n",
    "connection.commit()\n",
    "\n",
    "cursor.execute(insert_bookings)\n",
    "connection.commit()\n",
    "\n",
    "cursor.execute(insert_orders)\n",
    "connection.commit()"
   ]
  },
  {
   "cell_type": "code",
   "execution_count": 37,
   "id": "92f9d8d9",
   "metadata": {},
   "outputs": [],
   "source": [
    "sqlv = \"\"\"\n",
    "create view ordersview as \n",
    "\n",
    "select\n",
    "\n",
    "orderid,\n",
    "quantity,\n",
    "billamount as cost\n",
    "\n",
    "from orders\n",
    "\n",
    "where 1=1\n",
    "and quantity > 2;\n",
    "\n",
    "\"\"\""
   ]
  },
  {
   "cell_type": "code",
   "execution_count": 38,
   "id": "ed11b59c",
   "metadata": {},
   "outputs": [],
   "source": [
    "cursor.execute(sqlv)\n",
    "connection.commit()"
   ]
  },
  {
   "cell_type": "code",
   "execution_count": 47,
   "id": "30b85397",
   "metadata": {},
   "outputs": [],
   "source": [
    "sqlv = \"\"\"\n",
    "select\n",
    "\n",
    "a.customerid,\n",
    "a.firstname,\n",
    "a.lastname,\n",
    "c.orderid,\n",
    "billamount as cost,\n",
    "cuisine,\n",
    "name,\n",
    "type\n",
    "\n",
    "from customers as a\n",
    "left join bookings as b\n",
    "on a.customerid = b.customerid\n",
    "\n",
    "left join orders as c\n",
    "on b.bookingid = c.bookingid\n",
    "\n",
    "left join menus as d\n",
    "on c.menuid = d.menuid\n",
    "\n",
    "left join menuitems as e\n",
    "on d.itemid = e.itemid\n",
    "\n",
    "where 1=1\n",
    "and billamount > 40;\n",
    "\n",
    "\"\"\""
   ]
  },
  {
   "cell_type": "code",
   "execution_count": 48,
   "id": "586ca29d",
   "metadata": {},
   "outputs": [
    {
     "name": "stdout",
     "output_type": "stream",
     "text": [
      "(1, 'Anna', 'Iversen', 1, Decimal('86.00'), 'Greek', 'Olives', 'Starters')\n",
      "(1, 'Anna', 'Iversen', 1, Decimal('86.00'), 'Greek', 'Greek salad', 'Main Courses')\n",
      "(1, 'Anna', 'Iversen', 1, Decimal('86.00'), 'Greek', 'Greek yoghurt', 'Desserts')\n",
      "(1, 'Anna', 'Iversen', 1, Decimal('86.00'), 'Greek', 'Athens White wine', 'Drinks')\n",
      "(5, 'Hiroki', 'Yamane', 5, Decimal('43.00'), 'Greek', 'Olives', 'Starters')\n",
      "(5, 'Hiroki', 'Yamane', 5, Decimal('43.00'), 'Greek', 'Greek salad', 'Main Courses')\n",
      "(5, 'Hiroki', 'Yamane', 5, Decimal('43.00'), 'Greek', 'Greek yoghurt', 'Desserts')\n",
      "(5, 'Hiroki', 'Yamane', 5, Decimal('43.00'), 'Greek', 'Athens White wine', 'Drinks')\n"
     ]
    }
   ],
   "source": [
    "cursor.execute(sqlv)\n",
    "for i in cursor.fetchall():\n",
    "    print(i)"
   ]
  },
  {
   "cell_type": "code",
   "execution_count": 57,
   "id": "c4dddfc5",
   "metadata": {},
   "outputs": [],
   "source": [
    "sqlv = \"\"\"\n",
    "select\n",
    "cuisine\n",
    "\n",
    "from menus as a\n",
    "left join orders as b\n",
    "on a.menuid = b.menuid\n",
    "\n",
    "left join bookings as c\n",
    "on b.bookingid = c.bookingid\n",
    "\n",
    "where 1=1\n",
    "and quantity > 1\n",
    "\n",
    "\"\"\""
   ]
  },
  {
   "cell_type": "code",
   "execution_count": 58,
   "id": "6e0a8e89",
   "metadata": {},
   "outputs": [
    {
     "name": "stdout",
     "output_type": "stream",
     "text": [
      "('Greek',)\n",
      "('Greek',)\n",
      "('Greek',)\n",
      "('Greek',)\n"
     ]
    }
   ],
   "source": [
    "cursor.execute(sqlv)\n",
    "for i in cursor.fetchall():\n",
    "    print(i)"
   ]
  },
  {
   "cell_type": "code",
   "execution_count": 61,
   "id": "6ca23c35",
   "metadata": {},
   "outputs": [],
   "source": [
    "sqlv = \"\"\"\n",
    "\n",
    "create procedure GetMaxQuantity()\n",
    "begin\n",
    "select max(quantity) as max_order\n",
    "from orders;\n",
    "end\n",
    "\n",
    "\"\"\""
   ]
  },
  {
   "cell_type": "code",
   "execution_count": 62,
   "id": "4d8d5f00",
   "metadata": {},
   "outputs": [],
   "source": [
    "cursor.execute(sqlv)"
   ]
  },
  {
   "cell_type": "code",
   "execution_count": 67,
   "id": "8a1113f0",
   "metadata": {},
   "outputs": [],
   "source": [
    "sqlv = \"\"\"\n",
    "\n",
    "create procedure CancelOrder(x int)\n",
    "begin\n",
    "delete from orders where 1=1 and orderid = x;\n",
    "select concat(\"order \",x,\" is cancelled\") as confirmation;\n",
    "end\n",
    "\n",
    "\"\"\""
   ]
  },
  {
   "cell_type": "code",
   "execution_count": 68,
   "id": "402b6cdc",
   "metadata": {},
   "outputs": [],
   "source": [
    "cursor.execute(sqlv)"
   ]
  },
  {
   "cell_type": "code",
   "execution_count": null,
   "id": "55eca59c",
   "metadata": {},
   "outputs": [],
   "source": [
    "(BookingID, TableNo, GuestFirstName, \n",
    "GuestLastName, BookingSlot, EmployeeID,customerid)"
   ]
  },
  {
   "cell_type": "code",
   "execution_count": 31,
   "id": "ba30bfe8",
   "metadata": {},
   "outputs": [],
   "source": [
    "sqlv = \"\"\"\n",
    "\n",
    "create procedure CheckBooking(\n",
    "    in x varchar(45), \n",
    "    in y int)\n",
    "begin\n",
    "\n",
    "select \n",
    "bookingid,\n",
    "case when bookingid is null then \"table is available at that time\"\n",
    "else \"table is not available at that time\"\n",
    "end as bookingstatus\n",
    "from bookings\n",
    "\n",
    "where 1=1\n",
    "and bookingslot = x\n",
    "and tableno = y;\n",
    "\n",
    "end\n",
    "\n",
    "\"\"\""
   ]
  },
  {
   "cell_type": "code",
   "execution_count": 54,
   "id": "22c61469",
   "metadata": {},
   "outputs": [],
   "source": [
    "sqlv = \"\"\"\n",
    "\n",
    "create procedure CheckBooking(\n",
    "    in x varchar(45), \n",
    "    in y int)\n",
    "begin\n",
    "\n",
    "select \n",
    "case\n",
    "when exists(select bookingid from bookings where bookingslot=x and tableno=y) = 1 \n",
    "    then \"table is not available at that time\"\n",
    "when exists(select bookingid from bookings where bookingslot=x and tableno=y) = 0 \n",
    "    then  \"table is available at that time\"\n",
    "end as bookingstatus;\n",
    "end\n",
    "\n",
    "\"\"\""
   ]
  },
  {
   "cell_type": "code",
   "execution_count": 60,
   "id": "2f9d9b65",
   "metadata": {},
   "outputs": [],
   "source": [
    "cursor.execute(sqlv)"
   ]
  },
  {
   "cell_type": "code",
   "execution_count": 53,
   "id": "edf92c2e",
   "metadata": {},
   "outputs": [],
   "source": [
    "cursor.execute(\"drop procedure CheckBooking\")"
   ]
  },
  {
   "cell_type": "code",
   "execution_count": 68,
   "id": "fd42d637",
   "metadata": {},
   "outputs": [],
   "source": [
    "sqlv = \"\"\"\n",
    "\n",
    "create procedure AddValidBooking(\n",
    "    in tablenum int, \n",
    "    in fn varchar(45),\n",
    "    in ln varchar(45),\n",
    "    in bookslot varchar(45),\n",
    "    in empid int,\n",
    "    in custid int)\n",
    "begin\n",
    "\n",
    "start transaction;\n",
    "set autocommit = 0;\n",
    "\n",
    "insert into bookings(tableno,guestfirstname,guestlastname,bookingslot,employeeid,customerid)\n",
    "values\n",
    "(tablenum,fn,ln,bookslot,empid,custid);\n",
    "\n",
    "if exists(select bookingid from bookings where bookingslot=bookslot and tableno=tablenum) = 1 then rollback;\n",
    "else commit;\n",
    "end if;\n",
    "\n",
    "if exists(select bookingid from bookings where bookingslot=bookslot and tableno=tablenum) = 1 \n",
    "    then select \"table already booked;booking cancelled\" as booking_status;\n",
    "else select \"booking confirmed\" as booking_status;\n",
    "end if;\n",
    "\n",
    "end\n",
    "\n",
    "\"\"\""
   ]
  },
  {
   "cell_type": "code",
   "execution_count": 69,
   "id": "4fe07963",
   "metadata": {},
   "outputs": [],
   "source": [
    "cursor.execute(sqlv)"
   ]
  },
  {
   "cell_type": "code",
   "execution_count": 67,
   "id": "ea75571f",
   "metadata": {},
   "outputs": [],
   "source": [
    "cursor.execute(\"drop procedure AddValidBooking\")"
   ]
  },
  {
   "cell_type": "code",
   "execution_count": 75,
   "id": "a7b91d80",
   "metadata": {},
   "outputs": [],
   "source": [
    "sql = \"\"\"\n",
    "\n",
    "select distinct\n",
    "\n",
    "a.customerid,\n",
    "a.firstname,\n",
    "a.lastname,\n",
    "a.phonenumber,\n",
    "a.email,\n",
    "billamount as cost\n",
    "\n",
    "\n",
    "from customers as a\n",
    "left join bookings as b\n",
    "on a.customerid = b.customerid\n",
    "\n",
    "left join orders as c\n",
    "on b.bookingid = c.bookingid\n",
    "\n",
    "left join menus as d\n",
    "on c.menuid = d.menuid\n",
    "\n",
    "left join menuitems as e\n",
    "on d.itemid = e.itemid\n",
    "\n",
    "where 1=1\n",
    "and billamount > 60;\n",
    "\n",
    "\n",
    "\"\"\""
   ]
  },
  {
   "cell_type": "code",
   "execution_count": 76,
   "id": "0dc9cc5b",
   "metadata": {},
   "outputs": [],
   "source": [
    "cursor.execute(sql)"
   ]
  },
  {
   "cell_type": "code",
   "execution_count": 77,
   "id": "0cc07d8b",
   "metadata": {},
   "outputs": [
    {
     "name": "stdout",
     "output_type": "stream",
     "text": [
      "(1, 'Anna', 'Iversen', '5051234567', 'ai@derp.com', Decimal('86.00'))\n"
     ]
    }
   ],
   "source": [
    "for i in cursor.fetchall():\n",
    "    print(i)"
   ]
  },
  {
   "cell_type": "code",
   "execution_count": 78,
   "id": "ca757b21",
   "metadata": {},
   "outputs": [],
   "source": [
    "connection.close()"
   ]
  }
 ],
 "metadata": {
  "kernelspec": {
   "display_name": "Python 3 (ipykernel)",
   "language": "python",
   "name": "python3"
  },
  "language_info": {
   "codemirror_mode": {
    "name": "ipython",
    "version": 3
   },
   "file_extension": ".py",
   "mimetype": "text/x-python",
   "name": "python",
   "nbconvert_exporter": "python",
   "pygments_lexer": "ipython3",
   "version": "3.10.12"
  }
 },
 "nbformat": 4,
 "nbformat_minor": 5
}
